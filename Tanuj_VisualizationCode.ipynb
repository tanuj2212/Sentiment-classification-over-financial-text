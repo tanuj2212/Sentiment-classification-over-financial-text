{
 "cells": [
  {
   "cell_type": "code",
   "execution_count": 28,
   "metadata": {},
   "outputs": [],
   "source": [
    "import warnings\n",
    "warnings.filterwarnings('ignore')\n",
    "warnings.simplefilter('ignore')"
   ]
  },
  {
   "cell_type": "code",
   "execution_count": 29,
   "metadata": {
    "id": "26vCf_2I_lOY"
   },
   "outputs": [],
   "source": [
    "import nltk\n",
    "import matplotlib.pyplot as plt\n",
    "import seaborn as sns\n",
    "import pandas as pd\n",
    "from wordcloud import WordCloud\n",
    "from nltk.tokenize import word_tokenize, sent_tokenize, wordpunct_tokenize, TreebankWordTokenizer, TweetTokenizer"
   ]
  },
  {
   "cell_type": "code",
   "execution_count": 30,
   "metadata": {},
   "outputs": [],
   "source": [
    "import csv,sys\n",
    "from sklearn.feature_extraction.text import CountVectorizer, TfidfVectorizer\n",
    "from sklearn.feature_extraction.text import TfidfTransformer\n",
    "from sklearn.model_selection import GridSearchCV \n",
    "from sklearn.pipeline import Pipeline\n",
    "from sklearn.naive_bayes import MultinomialNB\n",
    "from sklearn.linear_model import LogisticRegression\n",
    "from sklearn import svm \n",
    "from sklearn.tree import DecisionTreeClassifier\n",
    "from sklearn.ensemble import RandomForestClassifier \n",
    "from sklearn.model_selection import train_test_split\n",
    "from sklearn.metrics import confusion_matrix,accuracy_score, precision_score, recall_score, f1_score\n",
    "from sklearn.feature_selection import SelectKBest,chi2 \n",
    "from sklearn.metrics import classification_report"
   ]
  },
  {
   "cell_type": "markdown",
   "metadata": {
    "id": "WGkFYsZIGBAf"
   },
   "source": [
    "### Import Dataset"
   ]
  },
  {
   "cell_type": "code",
   "execution_count": 31,
   "metadata": {
    "id": "gFLoHwXzFRQb"
   },
   "outputs": [],
   "source": [
    "df = pd.read_table(\"project2_training_data.txt\", names = ['doc'], header = None)"
   ]
  },
  {
   "cell_type": "code",
   "execution_count": 5,
   "metadata": {
    "colab": {
     "base_uri": "https://localhost:8080/",
     "height": 206
    },
    "id": "yxGkyup5FycS",
    "outputId": "fd3d5ccc-58df-46b5-ac6c-f01620ba7f26"
   },
   "outputs": [
    {
     "data": {
      "text/html": [
       "<div>\n",
       "<style scoped>\n",
       "    .dataframe tbody tr th:only-of-type {\n",
       "        vertical-align: middle;\n",
       "    }\n",
       "\n",
       "    .dataframe tbody tr th {\n",
       "        vertical-align: top;\n",
       "    }\n",
       "\n",
       "    .dataframe thead th {\n",
       "        text-align: right;\n",
       "    }\n",
       "</style>\n",
       "<table border=\"1\" class=\"dataframe\">\n",
       "  <thead>\n",
       "    <tr style=\"text-align: right;\">\n",
       "      <th></th>\n",
       "      <th>doc</th>\n",
       "    </tr>\n",
       "  </thead>\n",
       "  <tbody>\n",
       "    <tr>\n",
       "      <th>0</th>\n",
       "      <td>Merrill Lynch analyst Campbell Morgan upgraded...</td>\n",
       "    </tr>\n",
       "    <tr>\n",
       "      <th>1</th>\n",
       "      <td>Eriikka S+Âderstr+Âm has previously held sever...</td>\n",
       "    </tr>\n",
       "    <tr>\n",
       "      <th>2</th>\n",
       "      <td>The webcast may be followed online on the comp...</td>\n",
       "    </tr>\n",
       "    <tr>\n",
       "      <th>3</th>\n",
       "      <td>Typical end-uses include roof structures , flo...</td>\n",
       "    </tr>\n",
       "    <tr>\n",
       "      <th>4</th>\n",
       "      <td>The sale will be finalized in September or Oct...</td>\n",
       "    </tr>\n",
       "  </tbody>\n",
       "</table>\n",
       "</div>"
      ],
      "text/plain": [
       "                                                 doc\n",
       "0  Merrill Lynch analyst Campbell Morgan upgraded...\n",
       "1  Eriikka S+Âderstr+Âm has previously held sever...\n",
       "2  The webcast may be followed online on the comp...\n",
       "3  Typical end-uses include roof structures , flo...\n",
       "4  The sale will be finalized in September or Oct..."
      ]
     },
     "execution_count": 5,
     "metadata": {},
     "output_type": "execute_result"
    }
   ],
   "source": [
    "df.head(5)"
   ]
  },
  {
   "cell_type": "markdown",
   "metadata": {
    "id": "uj7Bp-lTGEb1"
   },
   "source": [
    "##### Train data label"
   ]
  },
  {
   "cell_type": "code",
   "execution_count": 32,
   "metadata": {
    "id": "SQrEJTwLFyxc"
   },
   "outputs": [],
   "source": [
    "df1=pd.read_table('project2_training_data_labels.txt', names =['class'],header = None  )"
   ]
  },
  {
   "cell_type": "code",
   "execution_count": 7,
   "metadata": {
    "colab": {
     "base_uri": "https://localhost:8080/",
     "height": 424
    },
    "id": "DotqMufGGltc",
    "outputId": "2e077d8d-a3ff-4c60-c352-825af8a95fc7"
   },
   "outputs": [
    {
     "data": {
      "text/html": [
       "<div>\n",
       "<style scoped>\n",
       "    .dataframe tbody tr th:only-of-type {\n",
       "        vertical-align: middle;\n",
       "    }\n",
       "\n",
       "    .dataframe tbody tr th {\n",
       "        vertical-align: top;\n",
       "    }\n",
       "\n",
       "    .dataframe thead th {\n",
       "        text-align: right;\n",
       "    }\n",
       "</style>\n",
       "<table border=\"1\" class=\"dataframe\">\n",
       "  <thead>\n",
       "    <tr style=\"text-align: right;\">\n",
       "      <th></th>\n",
       "      <th>class</th>\n",
       "    </tr>\n",
       "  </thead>\n",
       "  <tbody>\n",
       "    <tr>\n",
       "      <th>0</th>\n",
       "      <td>positive</td>\n",
       "    </tr>\n",
       "    <tr>\n",
       "      <th>1</th>\n",
       "      <td>neutral</td>\n",
       "    </tr>\n",
       "    <tr>\n",
       "      <th>2</th>\n",
       "      <td>neutral</td>\n",
       "    </tr>\n",
       "    <tr>\n",
       "      <th>3</th>\n",
       "      <td>neutral</td>\n",
       "    </tr>\n",
       "    <tr>\n",
       "      <th>4</th>\n",
       "      <td>neutral</td>\n",
       "    </tr>\n",
       "    <tr>\n",
       "      <th>...</th>\n",
       "      <td>...</td>\n",
       "    </tr>\n",
       "    <tr>\n",
       "      <th>1806</th>\n",
       "      <td>positive</td>\n",
       "    </tr>\n",
       "    <tr>\n",
       "      <th>1807</th>\n",
       "      <td>neutral</td>\n",
       "    </tr>\n",
       "    <tr>\n",
       "      <th>1808</th>\n",
       "      <td>neutral</td>\n",
       "    </tr>\n",
       "    <tr>\n",
       "      <th>1809</th>\n",
       "      <td>neutral</td>\n",
       "    </tr>\n",
       "    <tr>\n",
       "      <th>1810</th>\n",
       "      <td>neutral</td>\n",
       "    </tr>\n",
       "  </tbody>\n",
       "</table>\n",
       "<p>1811 rows × 1 columns</p>\n",
       "</div>"
      ],
      "text/plain": [
       "         class\n",
       "0     positive\n",
       "1      neutral\n",
       "2      neutral\n",
       "3      neutral\n",
       "4      neutral\n",
       "...        ...\n",
       "1806  positive\n",
       "1807   neutral\n",
       "1808   neutral\n",
       "1809   neutral\n",
       "1810   neutral\n",
       "\n",
       "[1811 rows x 1 columns]"
      ]
     },
     "execution_count": 7,
     "metadata": {},
     "output_type": "execute_result"
    }
   ],
   "source": [
    "df1"
   ]
  },
  {
   "cell_type": "code",
   "execution_count": 33,
   "metadata": {
    "id": "uEPFw7S1GSHz"
   },
   "outputs": [],
   "source": [
    "df['class'] = df1"
   ]
  },
  {
   "cell_type": "code",
   "execution_count": 9,
   "metadata": {
    "colab": {
     "base_uri": "https://localhost:8080/",
     "height": 363
    },
    "id": "sSFt0yF3Idv4",
    "outputId": "05d6340b-c0b5-403b-b4a5-608502acee67",
    "scrolled": true
   },
   "outputs": [
    {
     "data": {
      "text/html": [
       "<div>\n",
       "<style scoped>\n",
       "    .dataframe tbody tr th:only-of-type {\n",
       "        vertical-align: middle;\n",
       "    }\n",
       "\n",
       "    .dataframe tbody tr th {\n",
       "        vertical-align: top;\n",
       "    }\n",
       "\n",
       "    .dataframe thead th {\n",
       "        text-align: right;\n",
       "    }\n",
       "</style>\n",
       "<table border=\"1\" class=\"dataframe\">\n",
       "  <thead>\n",
       "    <tr style=\"text-align: right;\">\n",
       "      <th></th>\n",
       "      <th>doc</th>\n",
       "      <th>class</th>\n",
       "    </tr>\n",
       "  </thead>\n",
       "  <tbody>\n",
       "    <tr>\n",
       "      <th>0</th>\n",
       "      <td>Merrill Lynch analyst Campbell Morgan upgraded...</td>\n",
       "      <td>positive</td>\n",
       "    </tr>\n",
       "    <tr>\n",
       "      <th>1</th>\n",
       "      <td>Eriikka S+Âderstr+Âm has previously held sever...</td>\n",
       "      <td>neutral</td>\n",
       "    </tr>\n",
       "    <tr>\n",
       "      <th>2</th>\n",
       "      <td>The webcast may be followed online on the comp...</td>\n",
       "      <td>neutral</td>\n",
       "    </tr>\n",
       "    <tr>\n",
       "      <th>3</th>\n",
       "      <td>Typical end-uses include roof structures , flo...</td>\n",
       "      <td>neutral</td>\n",
       "    </tr>\n",
       "    <tr>\n",
       "      <th>4</th>\n",
       "      <td>The sale will be finalized in September or Oct...</td>\n",
       "      <td>neutral</td>\n",
       "    </tr>\n",
       "    <tr>\n",
       "      <th>5</th>\n",
       "      <td>Finnish steel maker Rautaruukki Oyj ( Ruukki )...</td>\n",
       "      <td>positive</td>\n",
       "    </tr>\n",
       "    <tr>\n",
       "      <th>6</th>\n",
       "      <td>The works will include the laying of natural s...</td>\n",
       "      <td>neutral</td>\n",
       "    </tr>\n",
       "    <tr>\n",
       "      <th>7</th>\n",
       "      <td>The order was valued at over EUR15m .</td>\n",
       "      <td>neutral</td>\n",
       "    </tr>\n",
       "    <tr>\n",
       "      <th>8</th>\n",
       "      <td>Finnish metal products company Componenta Oyj ...</td>\n",
       "      <td>positive</td>\n",
       "    </tr>\n",
       "    <tr>\n",
       "      <th>9</th>\n",
       "      <td>Coffee will be served starting at 14:30 EET as...</td>\n",
       "      <td>neutral</td>\n",
       "    </tr>\n",
       "  </tbody>\n",
       "</table>\n",
       "</div>"
      ],
      "text/plain": [
       "                                                 doc     class\n",
       "0  Merrill Lynch analyst Campbell Morgan upgraded...  positive\n",
       "1  Eriikka S+Âderstr+Âm has previously held sever...   neutral\n",
       "2  The webcast may be followed online on the comp...   neutral\n",
       "3  Typical end-uses include roof structures , flo...   neutral\n",
       "4  The sale will be finalized in September or Oct...   neutral\n",
       "5  Finnish steel maker Rautaruukki Oyj ( Ruukki )...  positive\n",
       "6  The works will include the laying of natural s...   neutral\n",
       "7              The order was valued at over EUR15m .   neutral\n",
       "8  Finnish metal products company Componenta Oyj ...  positive\n",
       "9  Coffee will be served starting at 14:30 EET as...   neutral"
      ]
     },
     "execution_count": 9,
     "metadata": {},
     "output_type": "execute_result"
    }
   ],
   "source": [
    "df.head(10)"
   ]
  },
  {
   "cell_type": "markdown",
   "metadata": {},
   "source": [
    "#### Data loading for existing models (only used for feature selection and existing model training)\n",
    "##### Converted the dataset into the list of strings"
   ]
  },
  {
   "cell_type": "code",
   "execution_count": 8,
   "metadata": {
    "scrolled": true
   },
   "outputs": [],
   "source": [
    "# Load data\n",
    "f1=open('project2_training_data.txt', 'r', encoding=\"utf8\") \n",
    "data1 = list(csv.reader(f1,delimiter='\\t'))\n",
    "data = []\n",
    "for i in data1:\n",
    "    for j in i:\n",
    "        data.append(j)"
   ]
  },
  {
   "cell_type": "code",
   "execution_count": 9,
   "metadata": {},
   "outputs": [],
   "source": [
    "# Load labels\n",
    "f2=open('project2_training_data_labels.txt', 'r', encoding=\"utf8\") \n",
    "labels1 = list(csv.reader(f2,delimiter='\\t'))\n",
    "labels = []\n",
    "for i in labels1:\n",
    "    for j in i:\n",
    "        labels.append(j)"
   ]
  },
  {
   "cell_type": "markdown",
   "metadata": {
    "id": "GVotCj2y6pWw"
   },
   "source": [
    "### Text-Preprocessing"
   ]
  },
  {
   "cell_type": "markdown",
   "metadata": {},
   "source": [
    "#### Stopword removal"
   ]
  },
  {
   "cell_type": "code",
   "execution_count": 34,
   "metadata": {
    "id": "y-s-8VGJIfXi"
   },
   "outputs": [
    {
     "name": "stderr",
     "output_type": "stream",
     "text": [
      "[nltk_data] Downloading package wordnet to\n",
      "[nltk_data]     C:\\Users\\ABC\\AppData\\Roaming\\nltk_data...\n",
      "[nltk_data]   Package wordnet is already up-to-date!\n",
      "[nltk_data] Downloading package stopwords to\n",
      "[nltk_data]     C:\\Users\\ABC\\AppData\\Roaming\\nltk_data...\n",
      "[nltk_data]   Package stopwords is already up-to-date!\n"
     ]
    }
   ],
   "source": [
    "import re\n",
    "from nltk.corpus import stopwords  ## stopwords from nltk corpus\n",
    "import nltk\n",
    "\n",
    "b = list(df[\"doc\"])\n",
    "nltk.download('wordnet')\n",
    "import nltk.corpus\n",
    "nltk.download('stopwords')\n",
    "\n",
    "stop = stopwords.words('english')\n",
    "import string\n",
    "exclude = set(string.punctuation)\n",
    "corpus = []\n",
    "for i in range(len(b)):\n",
    "    review =re.sub(r'http\\S+', ' ', str(b[i]))\n",
    "    review = re.sub(\"\\d*\\.\\d+\",\"\",review)\n",
    "    review =re.sub(r'@\\S+', ' ', review)\n",
    "    review = re.sub(r'[^\\w\\s]', '', review)\n",
    "    review = re.sub('()', '', review)\n",
    "    review = re.sub(r'[0-9]+', '', review)\n",
    "\n",
    "    \n",
    "    \n",
    "    review = re.sub('\\[[^]]*\\]', ' ', review)\n",
    "    \n",
    "    review = review.lower()\n",
    "    review = review.split()\n",
    "  \n",
    "    review = ' '.join(review)\n",
    "\n",
    "    corpus.append(review)\n",
    "df = df.assign(clean_doc = corpus)"
   ]
  },
  {
   "cell_type": "code",
   "execution_count": 35,
   "metadata": {
    "id": "Fvjnl6nAUZ5D"
   },
   "outputs": [],
   "source": [
    "df['doc_clean'] = df['clean_doc'].apply(lambda x: ' '.join([word for word in x.split() if word not in (stop)]))"
   ]
  },
  {
   "cell_type": "code",
   "execution_count": 36,
   "metadata": {
    "id": "cFzf3aZOUZ1E"
   },
   "outputs": [],
   "source": [
    "df_clean = df[['doc_clean','class']]"
   ]
  },
  {
   "cell_type": "code",
   "execution_count": 15,
   "metadata": {
    "id": "C7NXUVJbUZxh"
   },
   "outputs": [
    {
     "data": {
      "text/html": [
       "<div>\n",
       "<style scoped>\n",
       "    .dataframe tbody tr th:only-of-type {\n",
       "        vertical-align: middle;\n",
       "    }\n",
       "\n",
       "    .dataframe tbody tr th {\n",
       "        vertical-align: top;\n",
       "    }\n",
       "\n",
       "    .dataframe thead th {\n",
       "        text-align: right;\n",
       "    }\n",
       "</style>\n",
       "<table border=\"1\" class=\"dataframe\">\n",
       "  <thead>\n",
       "    <tr style=\"text-align: right;\">\n",
       "      <th></th>\n",
       "      <th>doc_clean</th>\n",
       "      <th>class</th>\n",
       "    </tr>\n",
       "  </thead>\n",
       "  <tbody>\n",
       "    <tr>\n",
       "      <th>0</th>\n",
       "      <td>merrill lynch analyst campbell morgan upgraded...</td>\n",
       "      <td>positive</td>\n",
       "    </tr>\n",
       "    <tr>\n",
       "      <th>1</th>\n",
       "      <td>eriikka sâderstrâm previously held several pos...</td>\n",
       "      <td>neutral</td>\n",
       "    </tr>\n",
       "    <tr>\n",
       "      <th>2</th>\n",
       "      <td>webcast may followed online company website ww...</td>\n",
       "      <td>neutral</td>\n",
       "    </tr>\n",
       "    <tr>\n",
       "      <th>3</th>\n",
       "      <td>typical enduses include roof structures floori...</td>\n",
       "      <td>neutral</td>\n",
       "    </tr>\n",
       "    <tr>\n",
       "      <th>4</th>\n",
       "      <td>sale finalized september october company said</td>\n",
       "      <td>neutral</td>\n",
       "    </tr>\n",
       "    <tr>\n",
       "      <th>...</th>\n",
       "      <td>...</td>\n",
       "      <td>...</td>\n",
       "    </tr>\n",
       "    <tr>\n",
       "      <th>1806</th>\n",
       "      <td>appointment kaupthing bank aims coordinate cap...</td>\n",
       "      <td>positive</td>\n",
       "    </tr>\n",
       "    <tr>\n",
       "      <th>1807</th>\n",
       "      <td>jon risfelt previously held operational execut...</td>\n",
       "      <td>neutral</td>\n",
       "    </tr>\n",
       "    <tr>\n",
       "      <th>1808</th>\n",
       "      <td>group intends relocate warehouse office space ...</td>\n",
       "      <td>neutral</td>\n",
       "    </tr>\n",
       "    <tr>\n",
       "      <th>1809</th>\n",
       "      <td>contract includes software licences applicatio...</td>\n",
       "      <td>neutral</td>\n",
       "    </tr>\n",
       "    <tr>\n",
       "      <th>1810</th>\n",
       "      <td>contract covers manufacturing surfacetreatment...</td>\n",
       "      <td>neutral</td>\n",
       "    </tr>\n",
       "  </tbody>\n",
       "</table>\n",
       "<p>1811 rows × 2 columns</p>\n",
       "</div>"
      ],
      "text/plain": [
       "                                              doc_clean     class\n",
       "0     merrill lynch analyst campbell morgan upgraded...  positive\n",
       "1     eriikka sâderstrâm previously held several pos...   neutral\n",
       "2     webcast may followed online company website ww...   neutral\n",
       "3     typical enduses include roof structures floori...   neutral\n",
       "4         sale finalized september october company said   neutral\n",
       "...                                                 ...       ...\n",
       "1806  appointment kaupthing bank aims coordinate cap...  positive\n",
       "1807  jon risfelt previously held operational execut...   neutral\n",
       "1808  group intends relocate warehouse office space ...   neutral\n",
       "1809  contract includes software licences applicatio...   neutral\n",
       "1810  contract covers manufacturing surfacetreatment...   neutral\n",
       "\n",
       "[1811 rows x 2 columns]"
      ]
     },
     "execution_count": 15,
     "metadata": {},
     "output_type": "execute_result"
    }
   ],
   "source": [
    "df_clean"
   ]
  },
  {
   "cell_type": "markdown",
   "metadata": {},
   "source": [
    "#### Stemming and Lemmatization"
   ]
  },
  {
   "cell_type": "code",
   "execution_count": 37,
   "metadata": {
    "id": "qO_Fiu0fUZu3"
   },
   "outputs": [],
   "source": [
    "w_tokenizer = nltk.tokenize.WhitespaceTokenizer()\n",
    "lemmatizer = nltk.stem.WordNetLemmatizer()\n",
    "\n",
    "def lemmatize_text(text):\n",
    "    return [lemmatizer.lemmatize(w) for w in w_tokenizer.tokenize(text)]\n",
    "\n",
    "\n",
    "df_clean['text_lemmatized'] = df_clean.doc_clean.apply(lemmatize_text)"
   ]
  },
  {
   "cell_type": "code",
   "execution_count": 38,
   "metadata": {},
   "outputs": [],
   "source": [
    "from nltk.stem.snowball import SnowballStemmer\n",
    "# Use English stemmer.\n",
    "stemmer = SnowballStemmer(\"english\")\n",
    "df_clean['stemmed'] = df_clean['text_lemmatized'].apply(lambda x: [stemmer.stem(y) for y in x]) # Stem every word."
   ]
  },
  {
   "cell_type": "code",
   "execution_count": 39,
   "metadata": {},
   "outputs": [],
   "source": [
    "for i in range(len(df_clean['text_lemmatized'])):\n",
    "    df_clean['text_lemmatized'][i] = ' '.join(df_clean['text_lemmatized'][i])"
   ]
  },
  {
   "cell_type": "code",
   "execution_count": 40,
   "metadata": {
    "scrolled": false
   },
   "outputs": [
    {
     "data": {
      "text/html": [
       "<div>\n",
       "<style scoped>\n",
       "    .dataframe tbody tr th:only-of-type {\n",
       "        vertical-align: middle;\n",
       "    }\n",
       "\n",
       "    .dataframe tbody tr th {\n",
       "        vertical-align: top;\n",
       "    }\n",
       "\n",
       "    .dataframe thead th {\n",
       "        text-align: right;\n",
       "    }\n",
       "</style>\n",
       "<table border=\"1\" class=\"dataframe\">\n",
       "  <thead>\n",
       "    <tr style=\"text-align: right;\">\n",
       "      <th></th>\n",
       "      <th>doc_clean</th>\n",
       "      <th>class</th>\n",
       "      <th>text_lemmatized</th>\n",
       "      <th>stemmed</th>\n",
       "    </tr>\n",
       "  </thead>\n",
       "  <tbody>\n",
       "    <tr>\n",
       "      <th>0</th>\n",
       "      <td>merrill lynch analyst campbell morgan upgraded...</td>\n",
       "      <td>positive</td>\n",
       "      <td>merrill lynch analyst campbell morgan upgraded...</td>\n",
       "      <td>[merril, lynch, analyst, campbel, morgan, upgr...</td>\n",
       "    </tr>\n",
       "    <tr>\n",
       "      <th>1</th>\n",
       "      <td>eriikka sâderstrâm previously held several pos...</td>\n",
       "      <td>neutral</td>\n",
       "      <td>eriikka sâderstrâm previously held several pos...</td>\n",
       "      <td>[eriikka, sâderstrâm, previous, held, sever, p...</td>\n",
       "    </tr>\n",
       "    <tr>\n",
       "      <th>2</th>\n",
       "      <td>webcast may followed online company website ww...</td>\n",
       "      <td>neutral</td>\n",
       "      <td>webcast may followed online company website ww...</td>\n",
       "      <td>[webcast, may, follow, onlin, compani, websit,...</td>\n",
       "    </tr>\n",
       "    <tr>\n",
       "      <th>3</th>\n",
       "      <td>typical enduses include roof structures floori...</td>\n",
       "      <td>neutral</td>\n",
       "      <td>typical enduses include roof structure floorin...</td>\n",
       "      <td>[typic, endus, includ, roof, structur, floor, ...</td>\n",
       "    </tr>\n",
       "    <tr>\n",
       "      <th>4</th>\n",
       "      <td>sale finalized september october company said</td>\n",
       "      <td>neutral</td>\n",
       "      <td>sale finalized september october company said</td>\n",
       "      <td>[sale, final, septemb, octob, compani, said]</td>\n",
       "    </tr>\n",
       "    <tr>\n",
       "      <th>...</th>\n",
       "      <td>...</td>\n",
       "      <td>...</td>\n",
       "      <td>...</td>\n",
       "      <td>...</td>\n",
       "    </tr>\n",
       "    <tr>\n",
       "      <th>1806</th>\n",
       "      <td>appointment kaupthing bank aims coordinate cap...</td>\n",
       "      <td>positive</td>\n",
       "      <td>appointment kaupthing bank aim coordinate capi...</td>\n",
       "      <td>[appoint, kaupth, bank, aim, coordin, capit, m...</td>\n",
       "    </tr>\n",
       "    <tr>\n",
       "      <th>1807</th>\n",
       "      <td>jon risfelt previously held operational execut...</td>\n",
       "      <td>neutral</td>\n",
       "      <td>jon risfelt previously held operational execut...</td>\n",
       "      <td>[jon, risfelt, previous, held, oper, execut, p...</td>\n",
       "    </tr>\n",
       "    <tr>\n",
       "      <th>1808</th>\n",
       "      <td>group intends relocate warehouse office space ...</td>\n",
       "      <td>neutral</td>\n",
       "      <td>group intends relocate warehouse office space ...</td>\n",
       "      <td>[group, intend, reloc, warehous, offic, space,...</td>\n",
       "    </tr>\n",
       "    <tr>\n",
       "      <th>1809</th>\n",
       "      <td>contract includes software licences applicatio...</td>\n",
       "      <td>neutral</td>\n",
       "      <td>contract includes software licence application...</td>\n",
       "      <td>[contract, includ, softwar, licenc, applic, ma...</td>\n",
       "    </tr>\n",
       "    <tr>\n",
       "      <th>1810</th>\n",
       "      <td>contract covers manufacturing surfacetreatment...</td>\n",
       "      <td>neutral</td>\n",
       "      <td>contract cover manufacturing surfacetreatment ...</td>\n",
       "      <td>[contract, cover, manufactur, surfacetreat, in...</td>\n",
       "    </tr>\n",
       "  </tbody>\n",
       "</table>\n",
       "<p>1811 rows × 4 columns</p>\n",
       "</div>"
      ],
      "text/plain": [
       "                                              doc_clean     class  \\\n",
       "0     merrill lynch analyst campbell morgan upgraded...  positive   \n",
       "1     eriikka sâderstrâm previously held several pos...   neutral   \n",
       "2     webcast may followed online company website ww...   neutral   \n",
       "3     typical enduses include roof structures floori...   neutral   \n",
       "4         sale finalized september october company said   neutral   \n",
       "...                                                 ...       ...   \n",
       "1806  appointment kaupthing bank aims coordinate cap...  positive   \n",
       "1807  jon risfelt previously held operational execut...   neutral   \n",
       "1808  group intends relocate warehouse office space ...   neutral   \n",
       "1809  contract includes software licences applicatio...   neutral   \n",
       "1810  contract covers manufacturing surfacetreatment...   neutral   \n",
       "\n",
       "                                        text_lemmatized  \\\n",
       "0     merrill lynch analyst campbell morgan upgraded...   \n",
       "1     eriikka sâderstrâm previously held several pos...   \n",
       "2     webcast may followed online company website ww...   \n",
       "3     typical enduses include roof structure floorin...   \n",
       "4         sale finalized september october company said   \n",
       "...                                                 ...   \n",
       "1806  appointment kaupthing bank aim coordinate capi...   \n",
       "1807  jon risfelt previously held operational execut...   \n",
       "1808  group intends relocate warehouse office space ...   \n",
       "1809  contract includes software licence application...   \n",
       "1810  contract cover manufacturing surfacetreatment ...   \n",
       "\n",
       "                                                stemmed  \n",
       "0     [merril, lynch, analyst, campbel, morgan, upgr...  \n",
       "1     [eriikka, sâderstrâm, previous, held, sever, p...  \n",
       "2     [webcast, may, follow, onlin, compani, websit,...  \n",
       "3     [typic, endus, includ, roof, structur, floor, ...  \n",
       "4          [sale, final, septemb, octob, compani, said]  \n",
       "...                                                 ...  \n",
       "1806  [appoint, kaupth, bank, aim, coordin, capit, m...  \n",
       "1807  [jon, risfelt, previous, held, oper, execut, p...  \n",
       "1808  [group, intend, reloc, warehous, offic, space,...  \n",
       "1809  [contract, includ, softwar, licenc, applic, ma...  \n",
       "1810  [contract, cover, manufactur, surfacetreat, in...  \n",
       "\n",
       "[1811 rows x 4 columns]"
      ]
     },
     "execution_count": 40,
     "metadata": {},
     "output_type": "execute_result"
    }
   ],
   "source": [
    "df_clean"
   ]
  },
  {
   "cell_type": "code",
   "execution_count": 41,
   "metadata": {},
   "outputs": [],
   "source": [
    "df_clean_1 = df_clean[['doc_clean','class']]"
   ]
  },
  {
   "cell_type": "code",
   "execution_count": 27,
   "metadata": {},
   "outputs": [],
   "source": [
    "#df_clean_1 = df_clean_1.rename(columns={'text_lemmatized':'doc_clean'})"
   ]
  },
  {
   "cell_type": "code",
   "execution_count": 42,
   "metadata": {
    "scrolled": true
   },
   "outputs": [
    {
     "data": {
      "text/html": [
       "<div>\n",
       "<style scoped>\n",
       "    .dataframe tbody tr th:only-of-type {\n",
       "        vertical-align: middle;\n",
       "    }\n",
       "\n",
       "    .dataframe tbody tr th {\n",
       "        vertical-align: top;\n",
       "    }\n",
       "\n",
       "    .dataframe thead th {\n",
       "        text-align: right;\n",
       "    }\n",
       "</style>\n",
       "<table border=\"1\" class=\"dataframe\">\n",
       "  <thead>\n",
       "    <tr style=\"text-align: right;\">\n",
       "      <th></th>\n",
       "      <th>doc_clean</th>\n",
       "      <th>class</th>\n",
       "    </tr>\n",
       "  </thead>\n",
       "  <tbody>\n",
       "    <tr>\n",
       "      <th>0</th>\n",
       "      <td>merrill lynch analyst campbell morgan upgraded...</td>\n",
       "      <td>positive</td>\n",
       "    </tr>\n",
       "    <tr>\n",
       "      <th>1</th>\n",
       "      <td>eriikka sâderstrâm previously held several pos...</td>\n",
       "      <td>neutral</td>\n",
       "    </tr>\n",
       "    <tr>\n",
       "      <th>2</th>\n",
       "      <td>webcast may followed online company website ww...</td>\n",
       "      <td>neutral</td>\n",
       "    </tr>\n",
       "    <tr>\n",
       "      <th>3</th>\n",
       "      <td>typical enduses include roof structures floori...</td>\n",
       "      <td>neutral</td>\n",
       "    </tr>\n",
       "    <tr>\n",
       "      <th>4</th>\n",
       "      <td>sale finalized september october company said</td>\n",
       "      <td>neutral</td>\n",
       "    </tr>\n",
       "    <tr>\n",
       "      <th>...</th>\n",
       "      <td>...</td>\n",
       "      <td>...</td>\n",
       "    </tr>\n",
       "    <tr>\n",
       "      <th>1806</th>\n",
       "      <td>appointment kaupthing bank aims coordinate cap...</td>\n",
       "      <td>positive</td>\n",
       "    </tr>\n",
       "    <tr>\n",
       "      <th>1807</th>\n",
       "      <td>jon risfelt previously held operational execut...</td>\n",
       "      <td>neutral</td>\n",
       "    </tr>\n",
       "    <tr>\n",
       "      <th>1808</th>\n",
       "      <td>group intends relocate warehouse office space ...</td>\n",
       "      <td>neutral</td>\n",
       "    </tr>\n",
       "    <tr>\n",
       "      <th>1809</th>\n",
       "      <td>contract includes software licences applicatio...</td>\n",
       "      <td>neutral</td>\n",
       "    </tr>\n",
       "    <tr>\n",
       "      <th>1810</th>\n",
       "      <td>contract covers manufacturing surfacetreatment...</td>\n",
       "      <td>neutral</td>\n",
       "    </tr>\n",
       "  </tbody>\n",
       "</table>\n",
       "<p>1811 rows × 2 columns</p>\n",
       "</div>"
      ],
      "text/plain": [
       "                                              doc_clean     class\n",
       "0     merrill lynch analyst campbell morgan upgraded...  positive\n",
       "1     eriikka sâderstrâm previously held several pos...   neutral\n",
       "2     webcast may followed online company website ww...   neutral\n",
       "3     typical enduses include roof structures floori...   neutral\n",
       "4         sale finalized september october company said   neutral\n",
       "...                                                 ...       ...\n",
       "1806  appointment kaupthing bank aims coordinate cap...  positive\n",
       "1807  jon risfelt previously held operational execut...   neutral\n",
       "1808  group intends relocate warehouse office space ...   neutral\n",
       "1809  contract includes software licences applicatio...   neutral\n",
       "1810  contract covers manufacturing surfacetreatment...   neutral\n",
       "\n",
       "[1811 rows x 2 columns]"
      ]
     },
     "execution_count": 42,
     "metadata": {},
     "output_type": "execute_result"
    }
   ],
   "source": [
    "df_clean_1"
   ]
  },
  {
   "cell_type": "code",
   "execution_count": 43,
   "metadata": {},
   "outputs": [],
   "source": [
    "df_clean_2 = df_clean[['text_lemmatized','class']]"
   ]
  },
  {
   "cell_type": "code",
   "execution_count": 44,
   "metadata": {},
   "outputs": [],
   "source": [
    "df_clean_2 = df_clean_2.rename(columns={'text_lemmatized':'all_cleaned'})"
   ]
  },
  {
   "cell_type": "code",
   "execution_count": 45,
   "metadata": {},
   "outputs": [
    {
     "data": {
      "text/html": [
       "<div>\n",
       "<style scoped>\n",
       "    .dataframe tbody tr th:only-of-type {\n",
       "        vertical-align: middle;\n",
       "    }\n",
       "\n",
       "    .dataframe tbody tr th {\n",
       "        vertical-align: top;\n",
       "    }\n",
       "\n",
       "    .dataframe thead th {\n",
       "        text-align: right;\n",
       "    }\n",
       "</style>\n",
       "<table border=\"1\" class=\"dataframe\">\n",
       "  <thead>\n",
       "    <tr style=\"text-align: right;\">\n",
       "      <th></th>\n",
       "      <th>all_cleaned</th>\n",
       "      <th>class</th>\n",
       "    </tr>\n",
       "  </thead>\n",
       "  <tbody>\n",
       "    <tr>\n",
       "      <th>0</th>\n",
       "      <td>merrill lynch analyst campbell morgan upgraded...</td>\n",
       "      <td>positive</td>\n",
       "    </tr>\n",
       "    <tr>\n",
       "      <th>1</th>\n",
       "      <td>eriikka sâderstrâm previously held several pos...</td>\n",
       "      <td>neutral</td>\n",
       "    </tr>\n",
       "    <tr>\n",
       "      <th>2</th>\n",
       "      <td>webcast may followed online company website ww...</td>\n",
       "      <td>neutral</td>\n",
       "    </tr>\n",
       "    <tr>\n",
       "      <th>3</th>\n",
       "      <td>typical enduses include roof structure floorin...</td>\n",
       "      <td>neutral</td>\n",
       "    </tr>\n",
       "    <tr>\n",
       "      <th>4</th>\n",
       "      <td>sale finalized september october company said</td>\n",
       "      <td>neutral</td>\n",
       "    </tr>\n",
       "    <tr>\n",
       "      <th>...</th>\n",
       "      <td>...</td>\n",
       "      <td>...</td>\n",
       "    </tr>\n",
       "    <tr>\n",
       "      <th>1806</th>\n",
       "      <td>appointment kaupthing bank aim coordinate capi...</td>\n",
       "      <td>positive</td>\n",
       "    </tr>\n",
       "    <tr>\n",
       "      <th>1807</th>\n",
       "      <td>jon risfelt previously held operational execut...</td>\n",
       "      <td>neutral</td>\n",
       "    </tr>\n",
       "    <tr>\n",
       "      <th>1808</th>\n",
       "      <td>group intends relocate warehouse office space ...</td>\n",
       "      <td>neutral</td>\n",
       "    </tr>\n",
       "    <tr>\n",
       "      <th>1809</th>\n",
       "      <td>contract includes software licence application...</td>\n",
       "      <td>neutral</td>\n",
       "    </tr>\n",
       "    <tr>\n",
       "      <th>1810</th>\n",
       "      <td>contract cover manufacturing surfacetreatment ...</td>\n",
       "      <td>neutral</td>\n",
       "    </tr>\n",
       "  </tbody>\n",
       "</table>\n",
       "<p>1811 rows × 2 columns</p>\n",
       "</div>"
      ],
      "text/plain": [
       "                                            all_cleaned     class\n",
       "0     merrill lynch analyst campbell morgan upgraded...  positive\n",
       "1     eriikka sâderstrâm previously held several pos...   neutral\n",
       "2     webcast may followed online company website ww...   neutral\n",
       "3     typical enduses include roof structure floorin...   neutral\n",
       "4         sale finalized september october company said   neutral\n",
       "...                                                 ...       ...\n",
       "1806  appointment kaupthing bank aim coordinate capi...  positive\n",
       "1807  jon risfelt previously held operational execut...   neutral\n",
       "1808  group intends relocate warehouse office space ...   neutral\n",
       "1809  contract includes software licence application...   neutral\n",
       "1810  contract cover manufacturing surfacetreatment ...   neutral\n",
       "\n",
       "[1811 rows x 2 columns]"
      ]
     },
     "execution_count": 45,
     "metadata": {},
     "output_type": "execute_result"
    }
   ],
   "source": [
    "df_clean_2"
   ]
  },
  {
   "cell_type": "markdown",
   "metadata": {
    "id": "39jiE0zUUaUw"
   },
   "source": [
    "## Data analyis and Visualization"
   ]
  },
  {
   "cell_type": "markdown",
   "metadata": {
    "id": "HG9sIr_l7sj4"
   },
   "source": [
    "#### Bar-Plot for each class"
   ]
  },
  {
   "cell_type": "code",
   "execution_count": 49,
   "metadata": {
    "id": "7iZMnMLD7sSI"
   },
   "outputs": [],
   "source": [
    "pos = 0\n",
    "neut = 0\n",
    "neg = 0\n",
    "for i in df_clean['class']:\n",
    "    if i == 'positive':\n",
    "        pos += 1\n",
    "    elif i == 'negative':\n",
    "        neg += 1\n",
    "    else:\n",
    "        neut += 1"
   ]
  },
  {
   "cell_type": "code",
   "execution_count": 50,
   "metadata": {
    "id": "NnLx8EKK8ZB3"
   },
   "outputs": [],
   "source": [
    "values = ['positive', 'neutral', 'negative']\n",
    "frequencies = [pos, neut, neg]"
   ]
  },
  {
   "cell_type": "code",
   "execution_count": 51,
   "metadata": {
    "colab": {
     "base_uri": "https://localhost:8080/",
     "height": 265
    },
    "id": "23gNwN9b9pv8",
    "outputId": "83aacaa9-64d3-459d-8280-cdf7204e1516",
    "scrolled": true
   },
   "outputs": [
    {
     "data": {
      "image/png": "[encoded data removed]",
      "text/plain": [
       "<Figure size 432x288 with 1 Axes>"
      ]
     },
     "metadata": {
      "needs_background": "light"
     },
     "output_type": "display_data"
    }
   ],
   "source": [
    "axes = sns.barplot(x=values, y=frequencies, palette='bright')"
   ]
  },
  {
   "cell_type": "markdown",
   "metadata": {
    "id": "HGfri5y7-WI-"
   },
   "source": [
    "#### Doc-length vs class plot"
   ]
  },
  {
   "cell_type": "code",
   "execution_count": 46,
   "metadata": {
    "id": "vrwuku4k9ppI"
   },
   "outputs": [],
   "source": [
    "doc_len_pos = []\n",
    "doc_len_neg = []\n",
    "doc_len_neut = []\n",
    "for i, j in zip(df_clean['doc_clean'], df_clean['class']):\n",
    "    if j == 'positive':\n",
    "        doc_len_pos.append(len(i))\n",
    "    elif j == 'negative':\n",
    "        doc_len_neg.append(len(i))\n",
    "    else:\n",
    "        doc_len_neut.append(len(i))"
   ]
  },
  {
   "cell_type": "code",
   "execution_count": 47,
   "metadata": {
    "id": "b8jM7JMh9pfG"
   },
   "outputs": [],
   "source": [
    "doc_len_avg_pos = 0\n",
    "doc_len_avg_neg = 0\n",
    "doc_len_avg_neut = 0\n",
    "for i in (doc_len_pos, doc_len_neg, doc_len_neut):\n",
    "    for j in i:\n",
    "        if i == doc_len_pos:\n",
    "            doc_len_avg_pos += j\n",
    "        elif i == doc_len_neg:\n",
    "            doc_len_avg_neg += j\n",
    "        elif i == doc_len_neut:\n",
    "            doc_len_avg_neut += j\n"
   ]
  },
  {
   "cell_type": "code",
   "execution_count": 52,
   "metadata": {
    "id": "F408QJYsBB4O"
   },
   "outputs": [],
   "source": [
    "doc_len_avg_freq = [(doc_len_avg_pos/pos), (doc_len_avg_neut/neut), (doc_len_avg_neg/neg)]"
   ]
  },
  {
   "cell_type": "code",
   "execution_count": 53,
   "metadata": {
    "colab": {
     "base_uri": "https://localhost:8080/",
     "height": 265
    },
    "id": "m2qXcCawBB0q",
    "outputId": "6b478ef3-cab3-4dab-93c9-75b5ac48b458"
   },
   "outputs": [
    {
     "data": {
      "image/png": "[encoded data removed]",
      "text/plain": [
       "<Figure size 432x288 with 1 Axes>"
      ]
     },
     "metadata": {
      "needs_background": "light"
     },
     "output_type": "display_data"
    }
   ],
   "source": [
    "axes2 = sns.barplot(x=values, y=doc_len_avg_freq, palette='bright')"
   ]
  },
  {
   "cell_type": "code",
   "execution_count": null,
   "metadata": {
    "id": "r0KEDlheBBwd"
   },
   "outputs": [],
   "source": []
  },
  {
   "cell_type": "markdown",
   "metadata": {
    "id": "zreCP_2TV4Lf"
   },
   "source": [
    "#### Bar Blot for text length"
   ]
  },
  {
   "cell_type": "code",
   "execution_count": 29,
   "metadata": {
    "colab": {
     "base_uri": "https://localhost:8080/",
     "height": 573
    },
    "id": "y30OnLmSUcvM",
    "outputId": "b644f0bc-29f3-48cf-cfcc-e80985a4adf1"
   },
   "outputs": [
    {
     "data": {
      "image/png": "[encoded data removed]",
      "text/plain": [
       "<Figure size 720x576 with 1 Axes>"
      ]
     },
     "metadata": {},
     "output_type": "display_data"
    }
   ],
   "source": [
    "# Plot histogram with the length. Truncate max length to 5000 tokens.\n",
    "plt.style.use(\"ggplot\")\n",
    "plt.figure(figsize=(10, 8))\n",
    "df_clean['length'] = df_clean['doc_clean'].apply(lambda x: len(x.split()))\n",
    "sns.distplot(df_clean[df_clean['length'] < 5000]['length'])\n",
    "plt.title('Frequency of documents of a given length', fontsize=14)\n",
    "plt.xlabel('length', fontsize=14)\n",
    "None"
   ]
  },
  {
   "cell_type": "markdown",
   "metadata": {
    "id": "FnsWx03UV8Je"
   },
   "source": [
    "#### Word Cloud"
   ]
  },
  {
   "cell_type": "code",
   "execution_count": 30,
   "metadata": {
    "id": "2dNIFrGYV9yT"
   },
   "outputs": [],
   "source": [
    "words = \" \".join(cat.split()[1] for cat in (df_clean[df_clean['class']=='positive']).doc_clean)\n",
    "cloud_positive = WordCloud(collocations = False, background_color = 'white').generate(words)"
   ]
  },
  {
   "cell_type": "code",
   "execution_count": 31,
   "metadata": {
    "id": "P3T-nKMhYgxj"
   },
   "outputs": [],
   "source": [
    "words = \" \".join(cat.split()[1] for cat in (df_clean[df_clean['class']=='negative']).doc_clean)\n",
    "cloud_negative = WordCloud(collocations = False, background_color = 'white').generate(words)"
   ]
  },
  {
   "cell_type": "code",
   "execution_count": null,
   "metadata": {
    "colab": {
     "base_uri": "https://localhost:8080/",
     "height": 198
    },
    "id": "YzqkekbmWZpv",
    "outputId": "eaf7bd6e-beaa-4b89-8daf-174e33f6430d"
   },
   "outputs": [],
   "source": [
    "plt.imshow(cloud_positive, interpolation='bilinear')\n",
    "plt.imshow(cloud_negative, interpolation='bilinear')\n",
    "plt.imshow(cloud_neutral, interpolation='bilinear')\n",
    "plt.axis(\"off\")\n",
    "plt.show()"
   ]
  },
  {
   "cell_type": "markdown",
   "metadata": {},
   "source": [
    "### TF-IDF"
   ]
  },
  {
   "cell_type": "code",
   "execution_count": 19,
   "metadata": {},
   "outputs": [],
   "source": [
    "vectorizer=TfidfVectorizer(stop_words='english',ngram_range=(1,3),token_pattern=r'\\b\\w+\\b')\n",
    "tfidf = vectorizer.fit_transform(data)\n",
    "terms=vectorizer.get_feature_names()\n",
    "tfidf = tfidf.toarray()"
   ]
  },
  {
   "cell_type": "code",
   "execution_count": 20,
   "metadata": {},
   "outputs": [
    {
     "data": {
      "text/plain": [
       "array([[0., 0., 0., ..., 0., 0., 0.],\n",
       "       [0., 0., 0., ..., 0., 0., 0.],\n",
       "       [0., 0., 0., ..., 0., 0., 0.],\n",
       "       ...,\n",
       "       [0., 0., 0., ..., 0., 0., 0.],\n",
       "       [0., 0., 0., ..., 0., 0., 0.],\n",
       "       [0., 0., 0., ..., 0., 0., 0.]])"
      ]
     },
     "execution_count": 20,
     "metadata": {},
     "output_type": "execute_result"
    }
   ],
   "source": [
    "tfidf"
   ]
  },
  {
   "cell_type": "code",
   "execution_count": 21,
   "metadata": {},
   "outputs": [
    {
     "name": "stdout",
     "output_type": "stream",
     "text": [
      "        0  0 008  0 008 share  0 01  0 03  0 03 0  0 03 versus  0 04  0 05  \\\n",
      "0     0.0    0.0          0.0   0.0   0.0     0.0          0.0   0.0   0.0   \n",
      "1     0.0    0.0          0.0   0.0   0.0     0.0          0.0   0.0   0.0   \n",
      "2     0.0    0.0          0.0   0.0   0.0     0.0          0.0   0.0   0.0   \n",
      "3     0.0    0.0          0.0   0.0   0.0     0.0          0.0   0.0   0.0   \n",
      "4     0.0    0.0          0.0   0.0   0.0     0.0          0.0   0.0   0.0   \n",
      "...   ...    ...          ...   ...   ...     ...          ...   ...   ...   \n",
      "1806  0.0    0.0          0.0   0.0   0.0     0.0          0.0   0.0   0.0   \n",
      "1807  0.0    0.0          0.0   0.0   0.0     0.0          0.0   0.0   0.0   \n",
      "1808  0.0    0.0          0.0   0.0   0.0     0.0          0.0   0.0   0.0   \n",
      "1809  0.0    0.0          0.0   0.0   0.0     0.0          0.0   0.0   0.0   \n",
      "1810  0.0    0.0          0.0   0.0   0.0     0.0          0.0   0.0   0.0   \n",
      "\n",
      "      0 05 share  ...  ñrnits chairman supervisory  ñrvi  ñrvi suomen  \\\n",
      "0            0.0  ...                          0.0   0.0          0.0   \n",
      "1            0.0  ...                          0.0   0.0          0.0   \n",
      "2            0.0  ...                          0.0   0.0          0.0   \n",
      "3            0.0  ...                          0.0   0.0          0.0   \n",
      "4            0.0  ...                          0.0   0.0          0.0   \n",
      "...          ...  ...                          ...   ...          ...   \n",
      "1806         0.0  ...                          0.0   0.0          0.0   \n",
      "1807         0.0  ...                          0.0   0.0          0.0   \n",
      "1808         0.0  ...                          0.0   0.0          0.0   \n",
      "1809         0.0  ...                          0.0   0.0          0.0   \n",
      "1810         0.0  ...                          0.0   0.0          0.0   \n",
      "\n",
      "      ñrvi suomen portti  ñskyl  ñskyl ñ  ñskyl ñ oulu    ó  ó x201a  \\\n",
      "0                    0.0    0.0      0.0           0.0  0.0      0.0   \n",
      "1                    0.0    0.0      0.0           0.0  0.0      0.0   \n",
      "2                    0.0    0.0      0.0           0.0  0.0      0.0   \n",
      "3                    0.0    0.0      0.0           0.0  0.0      0.0   \n",
      "4                    0.0    0.0      0.0           0.0  0.0      0.0   \n",
      "...                  ...    ...      ...           ...  ...      ...   \n",
      "1806                 0.0    0.0      0.0           0.0  0.0      0.0   \n",
      "1807                 0.0    0.0      0.0           0.0  0.0      0.0   \n",
      "1808                 0.0    0.0      0.0           0.0  0.0      0.0   \n",
      "1809                 0.0    0.0      0.0           0.0  0.0      0.0   \n",
      "1810                 0.0    0.0      0.0           0.0  0.0      0.0   \n",
      "\n",
      "      ó x201a ¼  \n",
      "0           0.0  \n",
      "1           0.0  \n",
      "2           0.0  \n",
      "3           0.0  \n",
      "4           0.0  \n",
      "...         ...  \n",
      "1806        0.0  \n",
      "1807        0.0  \n",
      "1808        0.0  \n",
      "1809        0.0  \n",
      "1810        0.0  \n",
      "\n",
      "[1811 rows x 40042 columns]\n"
     ]
    }
   ],
   "source": [
    "cv_dataframe=pd.DataFrame(tfidf,columns=vectorizer.get_feature_names())\n",
    "print(cv_dataframe)"
   ]
  },
  {
   "cell_type": "markdown",
   "metadata": {
    "id": "E8ZWsPKxWtDv"
   },
   "source": [
    "### Doc freq vs class"
   ]
  },
  {
   "cell_type": "code",
   "execution_count": 54,
   "metadata": {},
   "outputs": [],
   "source": [
    "pos_wrd_dict = {}\n",
    "neg_wrd_dict = {}\n",
    "neut_wrd_dict = {}\n",
    "for i, j in zip(df_clean['doc_clean'], df_clean['class']):\n",
    "    if j == 'positive':\n",
    "        for k in i.split():\n",
    "            if k not in pos_wrd_dict.keys():\n",
    "                pos_wrd_dict.update({k:1})\n",
    "            else:\n",
    "                pos_wrd_dict[k] +=1\n",
    "    elif j == 'negative':\n",
    "        for k in i.split():\n",
    "            if k not in neg_wrd_dict.keys():\n",
    "                neg_wrd_dict.update({k:1})\n",
    "            else:\n",
    "                neg_wrd_dict[k] +=1\n",
    "    elif j == 'neutral':\n",
    "        for k in i.split():\n",
    "            if k not in neut_wrd_dict.keys():\n",
    "                neut_wrd_dict.update({k:1})\n",
    "            else:\n",
    "                neut_wrd_dict[k] +=1\n",
    "                "
   ]
  },
  {
   "cell_type": "code",
   "execution_count": 55,
   "metadata": {},
   "outputs": [],
   "source": [
    "pos_wrd_dict_rev = [[i, j] for j, i in pos_wrd_dict.items()]\n",
    "neg_wrd_dict_rev = [[i, j] for j, i in neg_wrd_dict.items()]\n",
    "neut_wrd_dict_rev = [[i, j] for j, i in neut_wrd_dict.items()]"
   ]
  },
  {
   "cell_type": "code",
   "execution_count": 56,
   "metadata": {},
   "outputs": [],
   "source": [
    "a = []\n",
    "b = []\n",
    "c = []\n",
    "for i in pos_wrd_dict.values():\n",
    "    a.append(i)\n",
    "for i in neg_wrd_dict.values():\n",
    "    b.append(i)\n",
    "for i in neut_wrd_dict.values():\n",
    "    c.append(i)"
   ]
  },
  {
   "cell_type": "code",
   "execution_count": 57,
   "metadata": {},
   "outputs": [],
   "source": [
    "a.sort(reverse=True)\n",
    "b.sort(reverse=True)\n",
    "c.sort(reverse=True)"
   ]
  },
  {
   "cell_type": "code",
   "execution_count": 58,
   "metadata": {},
   "outputs": [],
   "source": [
    "pos_t50 = []\n",
    "neg_t50 = []\n",
    "neut_t50 = []\n",
    "\n",
    "for i in [a, b, c]:\n",
    "    if i == a:\n",
    "        for j in a[0:50]:\n",
    "            for k in pos_wrd_dict_rev:\n",
    "                if k[0] == j:\n",
    "                    pos_t50.append(k[1])\n",
    "                    pos_wrd_dict_rev.remove(k)\n",
    "    elif i == b:\n",
    "        for j in b[0:50]:\n",
    "            for k in neg_wrd_dict_rev:\n",
    "                if k[0] == j:\n",
    "                    neg_t50.append(k[1])\n",
    "                    neg_wrd_dict_rev.remove(k)\n",
    "    elif i == c:\n",
    "        for j in c[0:50]:\n",
    "            for k in neut_wrd_dict_rev:\n",
    "                if k[0] == j:\n",
    "                    neut_t50.append(k[1])\n",
    "                    neut_wrd_dict_rev.remove(k)"
   ]
  },
  {
   "cell_type": "code",
   "execution_count": 61,
   "metadata": {},
   "outputs": [],
   "source": [
    "values3 = [x for x in pos_t50[0:10]]\n",
    "freq3 = a[0:10]\n",
    "\n",
    "values4 = [x for x in neg_t50[0:10]]\n",
    "freq4 = b[0:10]\n",
    "\n",
    "values5 = [x for x in neut_t50[0:10]]\n",
    "freq5 = c[0:10]"
   ]
  },
  {
   "cell_type": "code",
   "execution_count": null,
   "metadata": {},
   "outputs": [],
   "source": [
    "axes3 = sns.barplot(x=values3, y=freq3, palette='bright')\n",
    "axes3.set(xlabel='Top 10 positive words', ylabel='Frequency')"
   ]
  },
  {
   "cell_type": "code",
   "execution_count": 42,
   "metadata": {},
   "outputs": [
    {
     "data": {
      "text/plain": [
       "[Text(0.5, 0, 'Top 10 negative words'), Text(0, 0.5, 'Frequency')]"
      ]
     },
     "execution_count": 42,
     "metadata": {},
     "output_type": "execute_result"
    },
    {
     "data": {
      "image/png": "[encoded data removed]",
      "text/plain": [
       "<Figure size 432x288 with 1 Axes>"
      ]
     },
     "metadata": {},
     "output_type": "display_data"
    }
   ],
   "source": [
    "axes4 = sns.barplot(x=values4, y=freq4, palette='bright')\n",
    "axes4.set(xlabel='Top 10 negative words', ylabel='Frequency')"
   ]
  },
  {
   "cell_type": "code",
   "execution_count": 43,
   "metadata": {},
   "outputs": [
    {
     "data": {
      "text/plain": [
       "[Text(0.5, 0, 'Top 10 neutral words'), Text(0, 0.5, 'Frequency')]"
      ]
     },
     "execution_count": 43,
     "metadata": {},
     "output_type": "execute_result"
    },
    {
     "data": {
      "image/png": "[encoded data removed]",
      "text/plain": [
       "<Figure size 432x288 with 1 Axes>"
      ]
     },
     "metadata": {},
     "output_type": "display_data"
    }
   ],
   "source": [
    "axes5 = sns.barplot(x=values5, y=freq5, palette='bright')\n",
    "axes5.set(xlabel='Top 10 neutral words', ylabel='Frequency')"
   ]
  },
  {
   "cell_type": "code",
   "execution_count": null,
   "metadata": {},
   "outputs": [],
   "source": []
  }
 ],
 "metadata": {
  "colab": {
   "collapsed_sections": [],
   "provenance": []
  },
  "kernelspec": {
   "display_name": "Python 3",
   "language": "python",
   "name": "python3"
  },
  "language_info": {
   "codemirror_mode": {
    "name": "ipython",
    "version": 3
   },
   "file_extension": ".py",
   "mimetype": "text/x-python",
   "name": "python",
   "nbconvert_exporter": "python",
   "pygments_lexer": "ipython3",
   "version": "3.8.8"
  }
 },
 "nbformat": 4,
 "nbformat_minor": 1
}
